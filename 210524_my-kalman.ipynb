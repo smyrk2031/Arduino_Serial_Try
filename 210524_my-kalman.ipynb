{
 "cells": [
  {
   "cell_type": "markdown",
   "id": "ca88fa70",
   "metadata": {},
   "source": [
    "# カルマンフィルタを実装したい"
   ]
  },
  {
   "cell_type": "code",
   "execution_count": 1,
   "id": "02dfda54",
   "metadata": {},
   "outputs": [
    {
     "data": {
      "text/plain": [
       "'\\nカルマンフィルターの拡張\\nカルマンスムーザーは、カルマンフィルターで得られた予測結果を「遡って修正する」ことができるアルゴリズム\\n※解析するデータが出そろった時点で推定する必要がある為、オンライン・リアルタイムには向かない\\n※時間軸に対する逆方向の推定\\n\\n'"
      ]
     },
     "execution_count": 1,
     "metadata": {},
     "output_type": "execute_result"
    }
   ],
   "source": [
    "# URL:https://pykalman.github.io/\n",
    "# URL:https://qiita.com/acela86/items/fdafb10ce5e2e0d73c9e\n",
    "\n",
    "\n",
    "# カルマンフィルタとは\n",
    "\"\"\"\n",
    "カルマンフィルタは、複数の不確実な情報を用いて，より正確な情報を推定する事ができる！\n",
    "カルマンフィルタはodometryとobservationの2つの値を合成して状態を推定するが\n",
    "この2つの値のうち、どちらをどれだけ重要視するかをカルマンゲインというパラメータを使ってコントロールしています。\n",
    "※予測と更新という2つのステップを繰り返すことで、ある時点までに得られた誤差を含む情報をもとに、「現在の状態を予測する」アルゴリズム\n",
    "※時間軸に対する順方向の推定\n",
    "●調査結果\n",
    "・pykalmanで簡単に実装可能だけどライブラリでの処理が遅い\n",
    "・\n",
    "\"\"\"\n",
    "\n",
    "# カルマンスムーサー\n",
    "\"\"\"\n",
    "カルマンフィルターの拡張\n",
    "カルマンスムーザーは、カルマンフィルターで得られた予測結果を「遡って修正する」ことができるアルゴリズム\n",
    "※解析するデータが出そろった時点で推定する必要がある為、オンライン・リアルタイムには向かない\n",
    "※時間軸に対する逆方向の推定\n",
    "\n",
    "\"\"\"\n"
   ]
  },
  {
   "cell_type": "markdown",
   "id": "ca8d3340",
   "metadata": {},
   "source": [
    "# 持続予測モデル + 自動FFTバンドパスフィルタ"
   ]
  },
  {
   "cell_type": "code",
   "execution_count": 3,
   "id": "f2fa3c6d",
   "metadata": {},
   "outputs": [],
   "source": [
    "import os\n",
    "import sys\n",
    "import time\n",
    "import math\n",
    "from random import randint\n",
    "\n",
    "import numpy as np\n",
    "import pandas as pd\n",
    "\n",
    "from matplotlib import pyplot as plt\n",
    "#from pykalman import KalmanFilter\n"
   ]
  },
  {
   "cell_type": "code",
   "execution_count": null,
   "id": "b3a50c5b",
   "metadata": {},
   "outputs": [],
   "source": []
  },
  {
   "cell_type": "code",
   "execution_count": 6,
   "id": "4234d9e4",
   "metadata": {},
   "outputs": [],
   "source": [
    "eps = np.finfo(float).eps"
   ]
  },
  {
   "cell_type": "code",
   "execution_count": null,
   "id": "1427f714",
   "metadata": {},
   "outputs": [],
   "source": []
  },
  {
   "cell_type": "code",
   "execution_count": 86,
   "id": "e2369c7c",
   "metadata": {},
   "outputs": [
    {
     "data": {
      "text/plain": [
       "[<matplotlib.lines.Line2D at 0x141ece2f430>]"
      ]
     },
     "execution_count": 86,
     "metadata": {},
     "output_type": "execute_result"
    },
    {
     "data": {
      "image/png": "[encoded data removed]",
      "text/plain": [
       "<Figure size 432x288 with 1 Axes>"
      ]
     },
     "metadata": {
      "needs_background": "light"
     },
     "output_type": "display_data"
    }
   ],
   "source": [
    "#試しに確認する\n",
    "data_ = np.arange(0, 1000, 0.1)\n",
    "plt.plot(data_)"
   ]
  },
  {
   "cell_type": "code",
   "execution_count": 85,
   "id": "4b82da50",
   "metadata": {},
   "outputs": [
    {
     "data": {
      "text/plain": [
       "[<matplotlib.lines.Line2D at 0x141ecdced30>]"
      ]
     },
     "execution_count": 85,
     "metadata": {},
     "output_type": "execute_result"
    },
    {
     "data": {
      "image/png": "[encoded data removed]",
      "text/plain": [
       "<Figure size 432x288 with 1 Axes>"
      ]
     },
     "metadata": {
      "needs_background": "light"
     },
     "output_type": "display_data"
    }
   ],
   "source": [
    "data_2 = f()"
   ]
  },
  {
   "cell_type": "code",
   "execution_count": 50,
   "id": "a7a81e0c",
   "metadata": {},
   "outputs": [
    {
     "data": {
      "text/plain": [
       "array([-99.,   0.])"
      ]
     },
     "execution_count": 50,
     "metadata": {},
     "output_type": "execute_result"
    }
   ],
   "source": [
    "f([10, 10])"
   ]
  },
  {
   "cell_type": "code",
   "execution_count": 51,
   "id": "914d7130",
   "metadata": {},
   "outputs": [],
   "source": [
    "## 連続非線形モデル\n",
    "def f(x, r = 0.2):\n",
    "    n = x[0]\n",
    "    L = x[1]\n",
    "\n",
    "    dx = np.zeros(2)\n",
    "    \n",
    "    # 初期値の演算だと\n",
    "    # 0.1*0.01 - 0.1*0.01*0.01*0.01\n",
    "    dx[0] = r * n - r * n * n * L\n",
    "\n",
    "    return dx"
   ]
  },
  {
   "cell_type": "code",
   "execution_count": 63,
   "id": "1508a020",
   "metadata": {},
   "outputs": [],
   "source": [
    "## 離散線形モデル\n",
    "def A(x, r = 0.2):\n",
    "    n = x[0]\n",
    "    L = x[1]\n",
    "\n",
    "    A = np.zeros([2, 2])\n",
    "    \n",
    "    # 初期値だと\n",
    "    # 0.1 - 2 * 0.01 * 0.01 * 0.01\n",
    "    A[0, 0] = r - 2 * n * r * L\n",
    "    # 0.1 - 2 * 0.01 * 0.01 * 0.01\n",
    "    A[0, 1] = - r * n * n\n",
    "\n",
    "    return A"
   ]
  },
  {
   "cell_type": "code",
   "execution_count": 64,
   "id": "0e93106b",
   "metadata": {},
   "outputs": [],
   "source": [
    "## 初期化\n",
    "T = 250                            # シミュレーション時間\n",
    "dt = 0.01                            # 演算周期\n",
    "meas_step = 1                       # 観測タイミング\n",
    "\n",
    "nx = 2                              # 状態ベクトルの次元\n",
    "ny = 1                              # 観測ベクトルの次元\n",
    "\n",
    "Q = np.diag([0, 0])                 # プロセスノイズ行列：np.diagで対角行列を作っている\n",
    "R = np.matrix([2])                  # 観測ノイズ行列\n",
    "H = np.matrix([1, 0])               # 観測方程式（観測行列）\n"
   ]
  },
  {
   "cell_type": "code",
   "execution_count": 65,
   "id": "5b24be23",
   "metadata": {},
   "outputs": [
    {
     "name": "stdout",
     "output_type": "stream",
     "text": [
      "[[0 0]\n",
      " [0 0]]\n",
      "[[1 0]]\n",
      "[[2]]\n"
     ]
    }
   ],
   "source": [
    "print(Q)\n",
    "print(H)\n",
    "print(R)"
   ]
  },
  {
   "cell_type": "code",
   "execution_count": 88,
   "id": "7cdd61f9",
   "metadata": {},
   "outputs": [
    {
     "name": "stdout",
     "output_type": "stream",
     "text": [
      "25000\n"
     ]
    }
   ],
   "source": [
    "## シミュレーション\n",
    "t = np.arange(0, T, dt)             # 時刻ベクトル：対象の意系列データ： (0～T時刻まで、サンプリングレート:dt)\n",
    "N = len(t)                          # 上記、対象時系列のサンプル数\n",
    "print(N)\n",
    "x = np.zeros([N, nx])               # 状態ベクトル（真値）：2次元\n",
    "y = np.zeros([N, ny])               # 観測ベクトル（ノイズなし）：1次元\n",
    "z = np.zeros([N, ny])               # 観測ベクトル（ノイズあり）：1次元\n",
    "\n",
    "np.random.seed(1)\n",
    "w = np.random.randn(N, nx)          # プロセスノイズ　→　これなにノイズだろう\n",
    "v = np.random.randn(N, ny)          # 観測ノイズ\n",
    "\n",
    "x[0,:] = np.array([0.0001, 0.05])   # 初期値"
   ]
  },
  {
   "cell_type": "code",
   "execution_count": 89,
   "id": "593a9bdf",
   "metadata": {},
   "outputs": [
    {
     "name": "stdout",
     "output_type": "stream",
     "text": [
      "[5 0]\n",
      "\n",
      "[[0.05 0.  ]\n",
      " [0.   0.05]]\n"
     ]
    }
   ],
   "source": [
    "# dotの使い方は、どっちでも内積計算できる\n",
    "print(np.dot(np.diag([5, 5]), [1, 0]))\n",
    "print()\n",
    "print(np.diag([5, 5]).dot(0.01))"
   ]
  },
  {
   "cell_type": "code",
   "execution_count": null,
   "id": "002fcf53",
   "metadata": {},
   "outputs": [],
   "source": []
  },
  {
   "cell_type": "code",
   "execution_count": 90,
   "id": "73b019c6",
   "metadata": {},
   "outputs": [
    {
     "data": {
      "text/plain": [
       "array([[0.0001, 0.05  ],\n",
       "       [0.    , 0.    ],\n",
       "       [0.    , 0.    ],\n",
       "       ...,\n",
       "       [0.    , 0.    ],\n",
       "       [0.    , 0.    ],\n",
       "       [0.    , 0.    ]])"
      ]
     },
     "execution_count": 90,
     "metadata": {},
     "output_type": "execute_result"
    }
   ],
   "source": [
    "x"
   ]
  },
  {
   "cell_type": "code",
   "execution_count": 68,
   "id": "844dc682",
   "metadata": {},
   "outputs": [],
   "source": [
    "# 連続非線形モデルを作成している：自作関数：f\n",
    "# x(状態ベクトル)　→　Q(プロセスノイズ)   [[0, 0][0, 0]]\n",
    "# y(観測ベクトル)　→　H(観測ノイズ)       [[1, 0]]\n",
    "# z(観測ベクトルnoise)　→　R(観測方程式)  [[2]]\n",
    "\n",
    "for i in range(1, N):\n",
    "    \n",
    "    # xは、1時刻前のxの値 + モデル値を加算する (1時刻前x値をsr0.01に換算し、プロセスノイズ)\n",
    "    # Qは成分が0で構成される対角行列の為、wのノイズ行列が0に初期化されている気がする、、なぜ、、\n",
    "    # [0.0001 0.05] [0.0001001 0.05] [0.0001002 0.05 ]なかんじになる、、、\n",
    "    # 連続非線形モデルを生成する\n",
    "    x[i,:] = x[i-1,:] + f(x[i-1,:]).dot(dt) + Q.dot(w[i,:])\n",
    "    \n",
    "    # xから、1次成分の行列を取得しているのと同義：[1,0]とdot積を算出\n",
    "    # [0.] [0.0001001] [0.0001002] なかんじ。\n",
    "    y[i,:] = H.dot(x[i,:])\n",
    "    \n",
    "    # yに、観測ノイズvを2倍(Rとdot積)した値\n",
    "    z[i,:] = y[i,:] + R.dot(v[i,:])"
   ]
  },
  {
   "cell_type": "code",
   "execution_count": 69,
   "id": "54ce4484",
   "metadata": {},
   "outputs": [
    {
     "data": {
      "text/plain": [
       "[<matplotlib.lines.Line2D at 0x141e813e640>,\n",
       " <matplotlib.lines.Line2D at 0x141e813e670>]"
      ]
     },
     "execution_count": 69,
     "metadata": {},
     "output_type": "execute_result"
    },
    {
     "data": {
      "image/png": "[encoded data removed]",
      "text/plain": [
       "<Figure size 432x288 with 1 Axes>"
      ]
     },
     "metadata": {
      "needs_background": "light"
     },
     "output_type": "display_data"
    }
   ],
   "source": [
    "# 作成した非線形モデルの表示\n",
    "plt.plot(z)\n",
    "plt.plot(x)"
   ]
  },
  {
   "cell_type": "code",
   "execution_count": 70,
   "id": "00a927a5",
   "metadata": {},
   "outputs": [
    {
     "name": "stdout",
     "output_type": "stream",
     "text": [
      "(5, 8)\n",
      "[[0. 0. 0. 1. 0. 0. 0. 0.]\n",
      " [0. 0. 0. 0. 1. 0. 0. 0.]\n",
      " [0. 0. 0. 0. 0. 1. 0. 0.]\n",
      " [0. 0. 0. 0. 0. 0. 1. 0.]\n",
      " [0. 0. 0. 0. 0. 0. 0. 1.]]\n"
     ]
    }
   ],
   "source": [
    "eee = np.eye(5, 8, 3)\n",
    "print(eee.shape)\n",
    "print(eee)"
   ]
  },
  {
   "cell_type": "code",
   "execution_count": 71,
   "id": "6945ca02",
   "metadata": {},
   "outputs": [
    {
     "data": {
      "text/plain": [
       "array([19.97834997,  0.05005404])"
      ]
     },
     "execution_count": 71,
     "metadata": {},
     "output_type": "execute_result"
    }
   ],
   "source": [
    "xu[-1,:]\n",
    "#.dot(dt)"
   ]
  },
  {
   "cell_type": "code",
   "execution_count": null,
   "id": "a950a964",
   "metadata": {},
   "outputs": [],
   "source": []
  },
  {
   "cell_type": "code",
   "execution_count": null,
   "id": "cbf26a34",
   "metadata": {},
   "outputs": [],
   "source": []
  },
  {
   "cell_type": "markdown",
   "id": "aa368fce",
   "metadata": {},
   "source": [
    "# カルマンフィルター"
   ]
  },
  {
   "cell_type": "code",
   "execution_count": 72,
   "id": "a0c07086",
   "metadata": {},
   "outputs": [
    {
     "name": "stdout",
     "output_type": "stream",
     "text": [
      "Wall time: 1e+03 µs\n"
     ]
    }
   ],
   "source": [
    "%%time\n",
    "\n",
    "\n",
    "# 事前推定値の入れ物を作成（予測ステップの結果)\n",
    "xp = np.zeros([N, nx])              \n",
    "# 事前誤差共分散の入れ物を作成（予測ステップの結果）\n",
    "Pp = np.zeros([N, nx, nx])          \n",
    "\n",
    "\n",
    "# 初期推定値\n",
    "xp[0,:] = np.array([0.01, 0.01])        \n",
    "# 初期共分散\n",
    "# ここはパラメータになるので、最適化代を調査する\n",
    "Pp[0,:,:] = np.diag([0.1**2, 0.05**2])  \n",
    "\n",
    "\n",
    "# 事後推定値（更新ステップの結果）\n",
    "xu = np.copy(xp)\n",
    "# 事後誤差共分散（更新ステップの結果）\n",
    "Pu = np.copy(Pp)\n"
   ]
  },
  {
   "cell_type": "code",
   "execution_count": null,
   "id": "179d72e0",
   "metadata": {},
   "outputs": [],
   "source": []
  },
  {
   "cell_type": "code",
   "execution_count": null,
   "id": "7aa34112",
   "metadata": {},
   "outputs": [],
   "source": []
  },
  {
   "cell_type": "code",
   "execution_count": 73,
   "id": "eea10d01",
   "metadata": {},
   "outputs": [
    {
     "name": "stdout",
     "output_type": "stream",
     "text": [
      "Wall time: 1.62 s\n"
     ]
    }
   ],
   "source": [
    "%%time\n",
    "# 1から最終時系列までを推測する(0は初期値が入る)\n",
    "for i in range(1, N):\n",
    "    \n",
    "    # 予測ステップ\n",
    "    # 1時刻前の事後推定値を連続非線形モデル関数にいれ、dtで内積を計算し、1時刻前の事後推定値に加算する\n",
    "    xp[i,:] = xu[i-1,:] + f(xu[i-1,:]).dot(dt)\n",
    "    \n",
    "    # 離散線型モデルを作る\n",
    "    # 単位行列(2)=[[1, 0][0, 1]] + A[[X, y][0 , 0]]の内積(dt演算周期0.01)※基本的にdtをかけるだけ\n",
    "    F = np.eye(nx) + A(xu[i-1,:]).dot(dt)\n",
    "    \n",
    "    # Qはプロセスノイズ行列[[0,0][0,0]]\n",
    "    Pp[i,:,:] = F.dot(Pu[i-1,:,:]).dot(F.T) + Q\n",
    "    \n",
    "    # 更新ステップ\n",
    "    if i % meas_step == 0:\n",
    "        e = z[i,:] - H.dot(xp[i,:])\n",
    "        S = R + H.dot(Pp[i,:,:]).dot(H.T)\n",
    "        K = Pp[i,:,:].dot(H.T).dot(np.linalg.inv(S))\n",
    "        xu[i,:] = xp[i,:] + K.dot(e).squeeze()\n",
    "        Pu[i,:,:] = (np.eye(nx) - K.dot(H)).dot(Pp[i,:,:])\n",
    "    else:\n",
    "        xu[i,:] = xp[i,:]\n",
    "        Pu[i,:,:] = Pp[i,:,:]\n"
   ]
  },
  {
   "cell_type": "code",
   "execution_count": 74,
   "id": "7d9ab8bc",
   "metadata": {},
   "outputs": [
    {
     "name": "stderr",
     "output_type": "stream",
     "text": [
      "<ipython-input-63-63e6050d94de>:10: RuntimeWarning: overflow encountered in double_scalars\n",
      "  A[0, 0] = r - 2 * n * r * L\n",
      "<ipython-input-63-63e6050d94de>:12: RuntimeWarning: overflow encountered in double_scalars\n",
      "  A[0, 1] = - r * n * n\n"
     ]
    },
    {
     "name": "stdout",
     "output_type": "stream",
     "text": [
      "Wall time: 594 ms\n"
     ]
    }
   ],
   "source": [
    "%%time\n",
    "## カルマンスムーザー\n",
    "xs = np.zeros([N, nx])              # 推定値\n",
    "Ps = np.zeros([N, nx, nx])          # 誤差共分散\n",
    "xs[-1,:] = xu[-1,:]\n",
    "Ps[-1,:,:] = Pu[-1,:,:]\n",
    "\n",
    "for i in reversed(range(N-1)):\n",
    "    # 平滑ステップ\n",
    "    F = np.eye(nx) + A(xs[i+1,:]).dot(dt)\n",
    "    C = Pu[i,:,:].dot(F.T).dot(np.linalg.inv(Pp[i+1,:,:]))\n",
    "\n",
    "    xs[i,:] = xu[i,:] + C.dot(xs[i+1,:] - xp[i+1,:]).squeeze()\n",
    "    Ps[i,:,:] = Pu[i,:,:] + C.dot(Ps[i+1,:,:] - Pp[i+1,:,:]).dot(C.T)"
   ]
  },
  {
   "cell_type": "code",
   "execution_count": 75,
   "id": "2d24a446",
   "metadata": {},
   "outputs": [],
   "source": [
    "## 誤差共分散から標準偏差σを計算\n",
    "pdf = np.zeros([N, nx])\n",
    "pds = np.zeros([N, nx])\n",
    "\n",
    "for i in range(nx):\n",
    "    pdf[:,i] = np.sqrt(np.maximum(Pu[:,i,i], eps))\n",
    "    pds[:,i] = np.sqrt(np.maximum(Ps[:,i,i], eps))"
   ]
  },
  {
   "cell_type": "code",
   "execution_count": null,
   "id": "76e50ff9",
   "metadata": {},
   "outputs": [],
   "source": []
  },
  {
   "cell_type": "code",
   "execution_count": null,
   "id": "38a94ae4",
   "metadata": {},
   "outputs": [],
   "source": []
  },
  {
   "cell_type": "code",
   "execution_count": 76,
   "id": "b1187086",
   "metadata": {},
   "outputs": [
    {
     "data": {
      "text/plain": [
       "[<matplotlib.lines.Line2D at 0x141e9173f40>]"
      ]
     },
     "execution_count": 76,
     "metadata": {},
     "output_type": "execute_result"
    },
    {
     "data": {
      "image/png": "[encoded data removed]",
      "text/plain": [
       "<Figure size 432x288 with 1 Axes>"
      ]
     },
     "metadata": {
      "needs_background": "light"
     },
     "output_type": "display_data"
    }
   ],
   "source": [
    "z.shape\n",
    "plt.plot(z)"
   ]
  },
  {
   "cell_type": "code",
   "execution_count": 77,
   "id": "cc006b18",
   "metadata": {},
   "outputs": [],
   "source": [
    "## プロット\n",
    "plt.close('all')"
   ]
  },
  {
   "cell_type": "code",
   "execution_count": 78,
   "id": "00df66b8",
   "metadata": {},
   "outputs": [
    {
     "data": {
      "text/plain": [
       "<matplotlib.legend.Legend at 0x141e94be970>"
      ]
     },
     "execution_count": 78,
     "metadata": {},
     "output_type": "execute_result"
    },
    {
     "data": {
      "image/png": "[encoded data removed]",
      "text/plain": [
       "<Figure size 432x288 with 1 Axes>"
      ]
     },
     "metadata": {
      "needs_background": "light"
     },
     "output_type": "display_data"
    }
   ],
   "source": [
    "# 観測値\n",
    "plt.figure()\n",
    "plt.plot(t, z[:,0], 'grey', t, x[:,0], 'orange')\n",
    "plt.grid()\n",
    "plt.xlim([0,T])\n",
    "plt.xlabel('Time')\n",
    "plt.ylabel('Population')\n",
    "plt.legend(['True', 'Measure'], loc='upper left')"
   ]
  },
  {
   "cell_type": "code",
   "execution_count": 79,
   "id": "9b2c8607",
   "metadata": {},
   "outputs": [
    {
     "data": {
      "text/plain": [
       "Text(0, 0.5, '$L(=1/K)$')"
      ]
     },
     "execution_count": 79,
     "metadata": {},
     "output_type": "execute_result"
    },
    {
     "data": {
      "image/png": "[encoded data removed]",
      "text/plain": [
       "<Figure size 432x288 with 2 Axes>"
      ]
     },
     "metadata": {
      "needs_background": "light"
     },
     "output_type": "display_data"
    }
   ],
   "source": [
    "# カルマンフィルターの演算結果\n",
    "plt.figure()\n",
    "plt.subplot(2,1,1)\n",
    "plt.fill_between(t, xp[:,0] - pdf[:,0] * 3, xp[:,0] + pdf[:,0] * 3, alpha = 0.3, color = 'dodgerblue')\n",
    "plt.plot(t, xp[:,0], 'dodgerblue', t, x[:,0], 'orange')\n",
    "plt.grid()\n",
    "plt.xlim([0,T])\n",
    "plt.ylim([-2,22])\n",
    "plt.ylabel('$n$')\n",
    "plt.legend(['Kalman Filter', 'True'], loc='upper left')\n",
    "\n",
    "plt.subplot(2,1,2)\n",
    "plt.fill_between(t, xp[:,1] - pdf[:,1] * 3, xp[:,1] + pdf[:,1] * 3, alpha = 0.3, color = 'dodgerblue')\n",
    "plt.plot(t, xp[:,1], 'dodgerblue', t, x[:,1], 'orange')\n",
    "plt.grid()\n",
    "plt.xlim([0,T])\n",
    "plt.ylim([-0.1, 0.1])\n",
    "plt.xlabel('Time')\n",
    "plt.ylabel('$L(=1/K)$')"
   ]
  },
  {
   "cell_type": "code",
   "execution_count": 80,
   "id": "40501b57",
   "metadata": {},
   "outputs": [
    {
     "data": {
      "text/plain": [
       "Text(0, 0.5, '$L(=1/K)$')"
      ]
     },
     "execution_count": 80,
     "metadata": {},
     "output_type": "execute_result"
    },
    {
     "data": {
      "image/png": "[encoded data removed]",
      "text/plain": [
       "<Figure size 432x288 with 2 Axes>"
      ]
     },
     "metadata": {
      "needs_background": "light"
     },
     "output_type": "display_data"
    }
   ],
   "source": [
    "# カルマンスムーザーの演算結果\n",
    "plt.figure()\n",
    "plt.subplot(2,1,1)\n",
    "plt.fill_between(t, xs[:,0] - pds[:,0] * 3, xs[:,0] + pds[:,0] * 3, alpha = 0.3, color = 'green')\n",
    "plt.plot(t, xp[:,0], 'dodgerblue', t, xs[:,0], 'green', t, x[:,0], 'orange')\n",
    "plt.grid()\n",
    "plt.xlim([0,T])\n",
    "plt.ylim([-2,22])\n",
    "plt.ylabel('$n$')\n",
    "plt.legend(['Kalman Filter', 'Kalman Smoother', 'True'], loc='lower right')\n",
    "\n",
    "plt.subplot(2,1,2)\n",
    "plt.fill_between(t, xs[:,1] - pds[:,1] * 3, xs[:,1] + pds[:,1] * 3, alpha = 0.3, color = 'green')\n",
    "plt.plot(t, xp[:,1], 'dodgerblue', t, xs[:,1], 'green', t, x[:,1], 'orange')\n",
    "plt.grid()\n",
    "plt.xlim([0,T])\n",
    "plt.ylim([-0.1, 0.1])\n",
    "plt.xlabel('Time')\n",
    "plt.ylabel('$L(=1/K)$')"
   ]
  },
  {
   "cell_type": "code",
   "execution_count": 81,
   "id": "3812b389",
   "metadata": {},
   "outputs": [
    {
     "data": {
      "text/plain": [
       "Text(0, 0.5, '$L(=1/K)$')"
      ]
     },
     "execution_count": 81,
     "metadata": {},
     "output_type": "execute_result"
    },
    {
     "data": {
      "image/png": "[encoded data removed]",
      "text/plain": [
       "<Figure size 432x288 with 2 Axes>"
      ]
     },
     "metadata": {
      "needs_background": "light"
     },
     "output_type": "display_data"
    }
   ],
   "source": [
    "# 誤差\n",
    "plt.figure()\n",
    "plt.subplot(2,1,1)\n",
    "plt.plot(t, xp[:,0] - x[:,0], 'dodgerblue', t, xs[:,0] - x[:,0], 'green')\n",
    "plt.grid()\n",
    "plt.xlim([0,T])\n",
    "plt.ylabel('$n$')\n",
    "plt.legend(['Kalman Filter', 'Kalman Smoother'], loc='upper left')\n",
    "\n",
    "plt.subplot(2,1,2)\n",
    "plt.plot(t, xp[:,1] - x[:,1], 'dodgerblue', t, xs[:,1] - x[:,1], 'green')\n",
    "plt.grid()\n",
    "plt.xlim([0,T])\n",
    "plt.xlabel('Time')\n",
    "plt.ylabel('$L(=1/K)$')"
   ]
  },
  {
   "cell_type": "code",
   "execution_count": null,
   "id": "93f5fa82",
   "metadata": {},
   "outputs": [],
   "source": []
  },
  {
   "cell_type": "code",
   "execution_count": null,
   "id": "cb4aeb2f",
   "metadata": {},
   "outputs": [],
   "source": []
  }
 ],
 "metadata": {
  "kernelspec": {
   "display_name": "Python 3",
   "language": "python",
   "name": "python3"
  },
  "language_info": {
   "codemirror_mode": {
    "name": "ipython",
    "version": 3
   },
   "file_extension": ".py",
   "mimetype": "text/x-python",
   "name": "python",
   "nbconvert_exporter": "python",
   "pygments_lexer": "ipython3",
   "version": "3.8.9"
  }
 },
 "nbformat": 4,
 "nbformat_minor": 5
}
